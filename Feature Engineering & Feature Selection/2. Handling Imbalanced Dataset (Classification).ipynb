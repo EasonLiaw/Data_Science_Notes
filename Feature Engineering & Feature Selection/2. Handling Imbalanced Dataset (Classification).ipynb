{
 "cells": [
  {
   "cell_type": "markdown",
   "id": "296cf714",
   "metadata": {},
   "source": [
    "# Handling Imbalanced Dataset\n",
    "\n",
    "Most classification algorithms assume that classes/categories are evenly distributed.\n",
    "\n",
    "However, many real-world classification problems have an imbalanced class distribution such as fraud detection, spam detection, and churn prediction. (anomaly detections)\n",
    "\n",
    "In classification problems, target variables that are severely imbalanced between different categories (i.e. beyond 70-30 ratio for binary classification and n equally divided categories for multiclass classification) may result in inaccurate predictions from classification algorithms.\n",
    "\n",
    "Thus, this scenario needs to be handled accordingly using various resampling techniques available using <b>imblearn</b> library."
   ]
  },
  {
   "cell_type": "code",
   "execution_count": 1,
   "id": "bb383133",
   "metadata": {},
   "outputs": [],
   "source": [
    "import numpy as np\n",
    "import pandas as pd\n",
    "import seaborn as sns\n",
    "import matplotlib.pyplot as plt\n",
    "import scipy.stats as st\n",
    "import feature_engine.imputation as fei\n",
    "from imblearn.under_sampling import RandomUnderSampler\n",
    "from imblearn.over_sampling import SMOTE, SMOTEN, SMOTENC\n",
    "from imblearn.combine import SMOTETomek, SMOTEENN\n",
    "from sklearn.utils import compute_class_weight\n",
    "from imblearn.ensemble import EasyEnsembleClassifier\n",
    "from collections import Counter\n",
    "from sklearn.datasets import fetch_kddcup99\n",
    "import category_encoders as ce\n",
    "pd.set_option('display.max_columns', 100)"
   ]
  },
  {
   "cell_type": "code",
   "execution_count": 2,
   "id": "1154c915",
   "metadata": {},
   "outputs": [
    {
     "data": {
      "text/html": [
       "<div>\n",
       "<style scoped>\n",
       "    .dataframe tbody tr th:only-of-type {\n",
       "        vertical-align: middle;\n",
       "    }\n",
       "\n",
       "    .dataframe tbody tr th {\n",
       "        vertical-align: top;\n",
       "    }\n",
       "\n",
       "    .dataframe thead th {\n",
       "        text-align: right;\n",
       "    }\n",
       "</style>\n",
       "<table border=\"1\" class=\"dataframe\">\n",
       "  <thead>\n",
       "    <tr style=\"text-align: right;\">\n",
       "      <th></th>\n",
       "      <th>duration</th>\n",
       "      <th>protocol_type</th>\n",
       "      <th>service</th>\n",
       "      <th>flag</th>\n",
       "      <th>src_bytes</th>\n",
       "      <th>dst_bytes</th>\n",
       "      <th>land</th>\n",
       "      <th>wrong_fragment</th>\n",
       "      <th>urgent</th>\n",
       "      <th>hot</th>\n",
       "      <th>num_failed_logins</th>\n",
       "      <th>logged_in</th>\n",
       "      <th>num_compromised</th>\n",
       "      <th>root_shell</th>\n",
       "      <th>su_attempted</th>\n",
       "      <th>num_root</th>\n",
       "      <th>num_file_creations</th>\n",
       "      <th>num_shells</th>\n",
       "      <th>num_access_files</th>\n",
       "      <th>num_outbound_cmds</th>\n",
       "      <th>is_host_login</th>\n",
       "      <th>is_guest_login</th>\n",
       "      <th>count</th>\n",
       "      <th>srv_count</th>\n",
       "      <th>serror_rate</th>\n",
       "      <th>srv_serror_rate</th>\n",
       "      <th>rerror_rate</th>\n",
       "      <th>srv_rerror_rate</th>\n",
       "      <th>same_srv_rate</th>\n",
       "      <th>diff_srv_rate</th>\n",
       "      <th>srv_diff_host_rate</th>\n",
       "      <th>dst_host_count</th>\n",
       "      <th>dst_host_srv_count</th>\n",
       "      <th>dst_host_same_srv_rate</th>\n",
       "      <th>dst_host_diff_srv_rate</th>\n",
       "      <th>dst_host_same_src_port_rate</th>\n",
       "      <th>dst_host_srv_diff_host_rate</th>\n",
       "      <th>dst_host_serror_rate</th>\n",
       "      <th>dst_host_srv_serror_rate</th>\n",
       "      <th>dst_host_rerror_rate</th>\n",
       "      <th>dst_host_srv_rerror_rate</th>\n",
       "      <th>labels</th>\n",
       "    </tr>\n",
       "  </thead>\n",
       "  <tbody>\n",
       "    <tr>\n",
       "      <th>0</th>\n",
       "      <td>0</td>\n",
       "      <td>b'tcp'</td>\n",
       "      <td>b'http'</td>\n",
       "      <td>b'SF'</td>\n",
       "      <td>181</td>\n",
       "      <td>5450</td>\n",
       "      <td>0</td>\n",
       "      <td>0</td>\n",
       "      <td>0</td>\n",
       "      <td>0</td>\n",
       "      <td>0</td>\n",
       "      <td>1</td>\n",
       "      <td>0</td>\n",
       "      <td>0</td>\n",
       "      <td>0</td>\n",
       "      <td>0</td>\n",
       "      <td>0</td>\n",
       "      <td>0</td>\n",
       "      <td>0</td>\n",
       "      <td>0</td>\n",
       "      <td>0</td>\n",
       "      <td>0</td>\n",
       "      <td>8</td>\n",
       "      <td>8</td>\n",
       "      <td>0.0</td>\n",
       "      <td>0.0</td>\n",
       "      <td>0.0</td>\n",
       "      <td>0.0</td>\n",
       "      <td>1.0</td>\n",
       "      <td>0.0</td>\n",
       "      <td>0.0</td>\n",
       "      <td>9</td>\n",
       "      <td>9</td>\n",
       "      <td>1.0</td>\n",
       "      <td>0.0</td>\n",
       "      <td>0.11</td>\n",
       "      <td>0.0</td>\n",
       "      <td>0.0</td>\n",
       "      <td>0.0</td>\n",
       "      <td>0.0</td>\n",
       "      <td>0.0</td>\n",
       "      <td>b'normal.'</td>\n",
       "    </tr>\n",
       "    <tr>\n",
       "      <th>1</th>\n",
       "      <td>0</td>\n",
       "      <td>b'tcp'</td>\n",
       "      <td>b'http'</td>\n",
       "      <td>b'SF'</td>\n",
       "      <td>239</td>\n",
       "      <td>486</td>\n",
       "      <td>0</td>\n",
       "      <td>0</td>\n",
       "      <td>0</td>\n",
       "      <td>0</td>\n",
       "      <td>0</td>\n",
       "      <td>1</td>\n",
       "      <td>0</td>\n",
       "      <td>0</td>\n",
       "      <td>0</td>\n",
       "      <td>0</td>\n",
       "      <td>0</td>\n",
       "      <td>0</td>\n",
       "      <td>0</td>\n",
       "      <td>0</td>\n",
       "      <td>0</td>\n",
       "      <td>0</td>\n",
       "      <td>8</td>\n",
       "      <td>8</td>\n",
       "      <td>0.0</td>\n",
       "      <td>0.0</td>\n",
       "      <td>0.0</td>\n",
       "      <td>0.0</td>\n",
       "      <td>1.0</td>\n",
       "      <td>0.0</td>\n",
       "      <td>0.0</td>\n",
       "      <td>19</td>\n",
       "      <td>19</td>\n",
       "      <td>1.0</td>\n",
       "      <td>0.0</td>\n",
       "      <td>0.05</td>\n",
       "      <td>0.0</td>\n",
       "      <td>0.0</td>\n",
       "      <td>0.0</td>\n",
       "      <td>0.0</td>\n",
       "      <td>0.0</td>\n",
       "      <td>b'normal.'</td>\n",
       "    </tr>\n",
       "    <tr>\n",
       "      <th>2</th>\n",
       "      <td>0</td>\n",
       "      <td>b'tcp'</td>\n",
       "      <td>b'http'</td>\n",
       "      <td>b'SF'</td>\n",
       "      <td>235</td>\n",
       "      <td>1337</td>\n",
       "      <td>0</td>\n",
       "      <td>0</td>\n",
       "      <td>0</td>\n",
       "      <td>0</td>\n",
       "      <td>0</td>\n",
       "      <td>1</td>\n",
       "      <td>0</td>\n",
       "      <td>0</td>\n",
       "      <td>0</td>\n",
       "      <td>0</td>\n",
       "      <td>0</td>\n",
       "      <td>0</td>\n",
       "      <td>0</td>\n",
       "      <td>0</td>\n",
       "      <td>0</td>\n",
       "      <td>0</td>\n",
       "      <td>8</td>\n",
       "      <td>8</td>\n",
       "      <td>0.0</td>\n",
       "      <td>0.0</td>\n",
       "      <td>0.0</td>\n",
       "      <td>0.0</td>\n",
       "      <td>1.0</td>\n",
       "      <td>0.0</td>\n",
       "      <td>0.0</td>\n",
       "      <td>29</td>\n",
       "      <td>29</td>\n",
       "      <td>1.0</td>\n",
       "      <td>0.0</td>\n",
       "      <td>0.03</td>\n",
       "      <td>0.0</td>\n",
       "      <td>0.0</td>\n",
       "      <td>0.0</td>\n",
       "      <td>0.0</td>\n",
       "      <td>0.0</td>\n",
       "      <td>b'normal.'</td>\n",
       "    </tr>\n",
       "    <tr>\n",
       "      <th>3</th>\n",
       "      <td>0</td>\n",
       "      <td>b'tcp'</td>\n",
       "      <td>b'http'</td>\n",
       "      <td>b'SF'</td>\n",
       "      <td>219</td>\n",
       "      <td>1337</td>\n",
       "      <td>0</td>\n",
       "      <td>0</td>\n",
       "      <td>0</td>\n",
       "      <td>0</td>\n",
       "      <td>0</td>\n",
       "      <td>1</td>\n",
       "      <td>0</td>\n",
       "      <td>0</td>\n",
       "      <td>0</td>\n",
       "      <td>0</td>\n",
       "      <td>0</td>\n",
       "      <td>0</td>\n",
       "      <td>0</td>\n",
       "      <td>0</td>\n",
       "      <td>0</td>\n",
       "      <td>0</td>\n",
       "      <td>6</td>\n",
       "      <td>6</td>\n",
       "      <td>0.0</td>\n",
       "      <td>0.0</td>\n",
       "      <td>0.0</td>\n",
       "      <td>0.0</td>\n",
       "      <td>1.0</td>\n",
       "      <td>0.0</td>\n",
       "      <td>0.0</td>\n",
       "      <td>39</td>\n",
       "      <td>39</td>\n",
       "      <td>1.0</td>\n",
       "      <td>0.0</td>\n",
       "      <td>0.03</td>\n",
       "      <td>0.0</td>\n",
       "      <td>0.0</td>\n",
       "      <td>0.0</td>\n",
       "      <td>0.0</td>\n",
       "      <td>0.0</td>\n",
       "      <td>b'normal.'</td>\n",
       "    </tr>\n",
       "    <tr>\n",
       "      <th>4</th>\n",
       "      <td>0</td>\n",
       "      <td>b'tcp'</td>\n",
       "      <td>b'http'</td>\n",
       "      <td>b'SF'</td>\n",
       "      <td>217</td>\n",
       "      <td>2032</td>\n",
       "      <td>0</td>\n",
       "      <td>0</td>\n",
       "      <td>0</td>\n",
       "      <td>0</td>\n",
       "      <td>0</td>\n",
       "      <td>1</td>\n",
       "      <td>0</td>\n",
       "      <td>0</td>\n",
       "      <td>0</td>\n",
       "      <td>0</td>\n",
       "      <td>0</td>\n",
       "      <td>0</td>\n",
       "      <td>0</td>\n",
       "      <td>0</td>\n",
       "      <td>0</td>\n",
       "      <td>0</td>\n",
       "      <td>6</td>\n",
       "      <td>6</td>\n",
       "      <td>0.0</td>\n",
       "      <td>0.0</td>\n",
       "      <td>0.0</td>\n",
       "      <td>0.0</td>\n",
       "      <td>1.0</td>\n",
       "      <td>0.0</td>\n",
       "      <td>0.0</td>\n",
       "      <td>49</td>\n",
       "      <td>49</td>\n",
       "      <td>1.0</td>\n",
       "      <td>0.0</td>\n",
       "      <td>0.02</td>\n",
       "      <td>0.0</td>\n",
       "      <td>0.0</td>\n",
       "      <td>0.0</td>\n",
       "      <td>0.0</td>\n",
       "      <td>0.0</td>\n",
       "      <td>b'normal.'</td>\n",
       "    </tr>\n",
       "  </tbody>\n",
       "</table>\n",
       "</div>"
      ],
      "text/plain": [
       "  duration protocol_type  service   flag src_bytes dst_bytes land  \\\n",
       "0        0        b'tcp'  b'http'  b'SF'       181      5450    0   \n",
       "1        0        b'tcp'  b'http'  b'SF'       239       486    0   \n",
       "2        0        b'tcp'  b'http'  b'SF'       235      1337    0   \n",
       "3        0        b'tcp'  b'http'  b'SF'       219      1337    0   \n",
       "4        0        b'tcp'  b'http'  b'SF'       217      2032    0   \n",
       "\n",
       "  wrong_fragment urgent hot num_failed_logins logged_in num_compromised  \\\n",
       "0              0      0   0                 0         1               0   \n",
       "1              0      0   0                 0         1               0   \n",
       "2              0      0   0                 0         1               0   \n",
       "3              0      0   0                 0         1               0   \n",
       "4              0      0   0                 0         1               0   \n",
       "\n",
       "  root_shell su_attempted num_root num_file_creations num_shells  \\\n",
       "0          0            0        0                  0          0   \n",
       "1          0            0        0                  0          0   \n",
       "2          0            0        0                  0          0   \n",
       "3          0            0        0                  0          0   \n",
       "4          0            0        0                  0          0   \n",
       "\n",
       "  num_access_files num_outbound_cmds is_host_login is_guest_login count  \\\n",
       "0                0                 0             0              0     8   \n",
       "1                0                 0             0              0     8   \n",
       "2                0                 0             0              0     8   \n",
       "3                0                 0             0              0     6   \n",
       "4                0                 0             0              0     6   \n",
       "\n",
       "  srv_count serror_rate srv_serror_rate rerror_rate srv_rerror_rate  \\\n",
       "0         8         0.0             0.0         0.0             0.0   \n",
       "1         8         0.0             0.0         0.0             0.0   \n",
       "2         8         0.0             0.0         0.0             0.0   \n",
       "3         6         0.0             0.0         0.0             0.0   \n",
       "4         6         0.0             0.0         0.0             0.0   \n",
       "\n",
       "  same_srv_rate diff_srv_rate srv_diff_host_rate dst_host_count  \\\n",
       "0           1.0           0.0                0.0              9   \n",
       "1           1.0           0.0                0.0             19   \n",
       "2           1.0           0.0                0.0             29   \n",
       "3           1.0           0.0                0.0             39   \n",
       "4           1.0           0.0                0.0             49   \n",
       "\n",
       "  dst_host_srv_count dst_host_same_srv_rate dst_host_diff_srv_rate  \\\n",
       "0                  9                    1.0                    0.0   \n",
       "1                 19                    1.0                    0.0   \n",
       "2                 29                    1.0                    0.0   \n",
       "3                 39                    1.0                    0.0   \n",
       "4                 49                    1.0                    0.0   \n",
       "\n",
       "  dst_host_same_src_port_rate dst_host_srv_diff_host_rate  \\\n",
       "0                        0.11                         0.0   \n",
       "1                        0.05                         0.0   \n",
       "2                        0.03                         0.0   \n",
       "3                        0.03                         0.0   \n",
       "4                        0.02                         0.0   \n",
       "\n",
       "  dst_host_serror_rate dst_host_srv_serror_rate dst_host_rerror_rate  \\\n",
       "0                  0.0                      0.0                  0.0   \n",
       "1                  0.0                      0.0                  0.0   \n",
       "2                  0.0                      0.0                  0.0   \n",
       "3                  0.0                      0.0                  0.0   \n",
       "4                  0.0                      0.0                  0.0   \n",
       "\n",
       "  dst_host_srv_rerror_rate      labels  \n",
       "0                      0.0  b'normal.'  \n",
       "1                      0.0  b'normal.'  \n",
       "2                      0.0  b'normal.'  \n",
       "3                      0.0  b'normal.'  \n",
       "4                      0.0  b'normal.'  "
      ]
     },
     "execution_count": 2,
     "metadata": {},
     "output_type": "execute_result"
    }
   ],
   "source": [
    "dataset = fetch_kddcup99()\n",
    "data = pd.concat([pd.DataFrame(dataset['data'], columns=dataset['feature_names']),\n",
    "                  pd.DataFrame(dataset['target'], columns=dataset['target_names'])],axis=1)\n",
    "data.head()"
   ]
  },
  {
   "cell_type": "code",
   "execution_count": 3,
   "id": "2ec088f5",
   "metadata": {},
   "outputs": [
    {
     "name": "stdout",
     "output_type": "stream",
     "text": [
      "<class 'pandas.core.frame.DataFrame'>\n",
      "RangeIndex: 494021 entries, 0 to 494020\n",
      "Data columns (total 42 columns):\n",
      " #   Column                       Non-Null Count   Dtype \n",
      "---  ------                       --------------   ----- \n",
      " 0   duration                     494021 non-null  object\n",
      " 1   protocol_type                494021 non-null  object\n",
      " 2   service                      494021 non-null  object\n",
      " 3   flag                         494021 non-null  object\n",
      " 4   src_bytes                    494021 non-null  object\n",
      " 5   dst_bytes                    494021 non-null  object\n",
      " 6   land                         494021 non-null  object\n",
      " 7   wrong_fragment               494021 non-null  object\n",
      " 8   urgent                       494021 non-null  object\n",
      " 9   hot                          494021 non-null  object\n",
      " 10  num_failed_logins            494021 non-null  object\n",
      " 11  logged_in                    494021 non-null  object\n",
      " 12  num_compromised              494021 non-null  object\n",
      " 13  root_shell                   494021 non-null  object\n",
      " 14  su_attempted                 494021 non-null  object\n",
      " 15  num_root                     494021 non-null  object\n",
      " 16  num_file_creations           494021 non-null  object\n",
      " 17  num_shells                   494021 non-null  object\n",
      " 18  num_access_files             494021 non-null  object\n",
      " 19  num_outbound_cmds            494021 non-null  object\n",
      " 20  is_host_login                494021 non-null  object\n",
      " 21  is_guest_login               494021 non-null  object\n",
      " 22  count                        494021 non-null  object\n",
      " 23  srv_count                    494021 non-null  object\n",
      " 24  serror_rate                  494021 non-null  object\n",
      " 25  srv_serror_rate              494021 non-null  object\n",
      " 26  rerror_rate                  494021 non-null  object\n",
      " 27  srv_rerror_rate              494021 non-null  object\n",
      " 28  same_srv_rate                494021 non-null  object\n",
      " 29  diff_srv_rate                494021 non-null  object\n",
      " 30  srv_diff_host_rate           494021 non-null  object\n",
      " 31  dst_host_count               494021 non-null  object\n",
      " 32  dst_host_srv_count           494021 non-null  object\n",
      " 33  dst_host_same_srv_rate       494021 non-null  object\n",
      " 34  dst_host_diff_srv_rate       494021 non-null  object\n",
      " 35  dst_host_same_src_port_rate  494021 non-null  object\n",
      " 36  dst_host_srv_diff_host_rate  494021 non-null  object\n",
      " 37  dst_host_serror_rate         494021 non-null  object\n",
      " 38  dst_host_srv_serror_rate     494021 non-null  object\n",
      " 39  dst_host_rerror_rate         494021 non-null  object\n",
      " 40  dst_host_srv_rerror_rate     494021 non-null  object\n",
      " 41  labels                       494021 non-null  object\n",
      "dtypes: object(42)\n",
      "memory usage: 158.3+ MB\n"
     ]
    }
   ],
   "source": [
    "data.info()"
   ]
  },
  {
   "cell_type": "code",
   "execution_count": 4,
   "id": "01d2b9ac",
   "metadata": {},
   "outputs": [
    {
     "data": {
      "text/plain": [
       "duration                        2495\n",
       "protocol_type                      3\n",
       "service                           66\n",
       "flag                              11\n",
       "src_bytes                       3300\n",
       "dst_bytes                      10725\n",
       "land                               2\n",
       "wrong_fragment                     3\n",
       "urgent                             4\n",
       "hot                               22\n",
       "num_failed_logins                  6\n",
       "logged_in                          2\n",
       "num_compromised                   23\n",
       "root_shell                         2\n",
       "su_attempted                       3\n",
       "num_root                          20\n",
       "num_file_creations                18\n",
       "num_shells                         3\n",
       "num_access_files                   7\n",
       "num_outbound_cmds                  1\n",
       "is_host_login                      1\n",
       "is_guest_login                     2\n",
       "count                            490\n",
       "srv_count                        470\n",
       "serror_rate                       92\n",
       "srv_serror_rate                   51\n",
       "rerror_rate                       77\n",
       "srv_rerror_rate                   51\n",
       "same_srv_rate                     99\n",
       "diff_srv_rate                     78\n",
       "srv_diff_host_rate                64\n",
       "dst_host_count                   256\n",
       "dst_host_srv_count               256\n",
       "dst_host_same_srv_rate           101\n",
       "dst_host_diff_srv_rate           101\n",
       "dst_host_same_src_port_rate      101\n",
       "dst_host_srv_diff_host_rate       65\n",
       "dst_host_serror_rate             100\n",
       "dst_host_srv_serror_rate          72\n",
       "dst_host_rerror_rate             101\n",
       "dst_host_srv_rerror_rate         101\n",
       "labels                            23\n",
       "dtype: int64"
      ]
     },
     "execution_count": 4,
     "metadata": {},
     "output_type": "execute_result"
    }
   ],
   "source": [
    "data.nunique()"
   ]
  },
  {
   "cell_type": "code",
   "execution_count": 5,
   "id": "7e41a4d5",
   "metadata": {},
   "outputs": [
    {
     "name": "stdout",
     "output_type": "stream",
     "text": [
      "<class 'pandas.core.frame.DataFrame'>\n",
      "RangeIndex: 494021 entries, 0 to 494020\n",
      "Data columns (total 42 columns):\n",
      " #   Column                       Non-Null Count   Dtype  \n",
      "---  ------                       --------------   -----  \n",
      " 0   duration                     494021 non-null  int32  \n",
      " 1   protocol_type                494021 non-null  object \n",
      " 2   service                      494021 non-null  object \n",
      " 3   flag                         494021 non-null  object \n",
      " 4   src_bytes                    494021 non-null  int32  \n",
      " 5   dst_bytes                    494021 non-null  int32  \n",
      " 6   land                         494021 non-null  int32  \n",
      " 7   wrong_fragment               494021 non-null  int32  \n",
      " 8   urgent                       494021 non-null  int32  \n",
      " 9   hot                          494021 non-null  int32  \n",
      " 10  num_failed_logins            494021 non-null  int32  \n",
      " 11  logged_in                    494021 non-null  int32  \n",
      " 12  num_compromised              494021 non-null  int32  \n",
      " 13  root_shell                   494021 non-null  int32  \n",
      " 14  su_attempted                 494021 non-null  int32  \n",
      " 15  num_root                     494021 non-null  int32  \n",
      " 16  num_file_creations           494021 non-null  int32  \n",
      " 17  num_shells                   494021 non-null  int32  \n",
      " 18  num_access_files             494021 non-null  int32  \n",
      " 19  num_outbound_cmds            494021 non-null  int32  \n",
      " 20  is_host_login                494021 non-null  int32  \n",
      " 21  is_guest_login               494021 non-null  int32  \n",
      " 22  count                        494021 non-null  int32  \n",
      " 23  srv_count                    494021 non-null  int32  \n",
      " 24  serror_rate                  494021 non-null  float64\n",
      " 25  srv_serror_rate              494021 non-null  float64\n",
      " 26  rerror_rate                  494021 non-null  float64\n",
      " 27  srv_rerror_rate              494021 non-null  float64\n",
      " 28  same_srv_rate                494021 non-null  float64\n",
      " 29  diff_srv_rate                494021 non-null  float64\n",
      " 30  srv_diff_host_rate           494021 non-null  float64\n",
      " 31  dst_host_count               494021 non-null  int32  \n",
      " 32  dst_host_srv_count           494021 non-null  int32  \n",
      " 33  dst_host_same_srv_rate       494021 non-null  float64\n",
      " 34  dst_host_diff_srv_rate       494021 non-null  float64\n",
      " 35  dst_host_same_src_port_rate  494021 non-null  float64\n",
      " 36  dst_host_srv_diff_host_rate  494021 non-null  float64\n",
      " 37  dst_host_serror_rate         494021 non-null  float64\n",
      " 38  dst_host_srv_serror_rate     494021 non-null  float64\n",
      " 39  dst_host_rerror_rate         494021 non-null  float64\n",
      " 40  dst_host_srv_rerror_rate     494021 non-null  float64\n",
      " 41  labels                       494021 non-null  object \n",
      "dtypes: float64(15), int32(23), object(4)\n",
      "memory usage: 115.0+ MB\n"
     ]
    }
   ],
   "source": [
    "data[np.array(data.columns[24:31])] = data[np.array(data.columns[24:31])].astype('float')\n",
    "data[np.array(data.columns[33:41])] = data[np.array(data.columns[33:41])].astype('float')\n",
    "data[['protocol_type','service','flag','labels']] = data[['protocol_type','service','flag','labels']].applymap(\n",
    "                                                    lambda x: x.decode('ascii'))\n",
    "integer_columns = np.array(data.drop(['serror_rate', 'srv_serror_rate', 'rerror_rate', 'srv_rerror_rate', \n",
    "                                      'same_srv_rate', 'diff_srv_rate', 'srv_diff_host_rate', 'dst_host_diff_srv_rate', \n",
    "                                      'dst_host_same_src_port_rate', 'dst_host_srv_diff_host_rate', 'dst_host_serror_rate', \n",
    "                                      'dst_host_srv_serror_rate', 'dst_host_rerror_rate', 'dst_host_srv_rerror_rate', \n",
    "                                      'dst_host_same_srv_rate','protocol_type','service','flag','labels'],axis=1).columns)\n",
    "data[integer_columns] = data[integer_columns].astype('int')\n",
    "data.info()"
   ]
  },
  {
   "cell_type": "code",
   "execution_count": 6,
   "id": "2a9072e6",
   "metadata": {},
   "outputs": [],
   "source": [
    "X = data.drop('labels',axis=1)\n",
    "y = data['labels']"
   ]
  },
  {
   "cell_type": "code",
   "execution_count": 7,
   "id": "f0279d5a",
   "metadata": {},
   "outputs": [
    {
     "data": {
      "text/plain": [
       "smurf.              0.568377\n",
       "neptune.            0.216997\n",
       "normal.             0.196911\n",
       "back.               0.004459\n",
       "satan.              0.003216\n",
       "ipsweep.            0.002524\n",
       "portsweep.          0.002105\n",
       "warezclient.        0.002065\n",
       "teardrop.           0.001982\n",
       "pod.                0.000534\n",
       "nmap.               0.000468\n",
       "guess_passwd.       0.000107\n",
       "buffer_overflow.    0.000061\n",
       "land.               0.000043\n",
       "warezmaster.        0.000040\n",
       "imap.               0.000024\n",
       "rootkit.            0.000020\n",
       "loadmodule.         0.000018\n",
       "ftp_write.          0.000016\n",
       "multihop.           0.000014\n",
       "phf.                0.000008\n",
       "perl.               0.000006\n",
       "spy.                0.000004\n",
       "Name: labels, dtype: float64"
      ]
     },
     "execution_count": 7,
     "metadata": {},
     "output_type": "execute_result"
    }
   ],
   "source": [
    "y.value_counts()/len(y)"
   ]
  },
  {
   "cell_type": "code",
   "execution_count": 8,
   "id": "8b6bac5f",
   "metadata": {},
   "outputs": [
    {
     "data": {
      "text/plain": [
       "smurf.      0.568377\n",
       "neptune.    0.216997\n",
       "normal.     0.196911\n",
       "others      0.017716\n",
       "Name: labels, dtype: float64"
      ]
     },
     "execution_count": 8,
     "metadata": {},
     "output_type": "execute_result"
    }
   ],
   "source": [
    "y = y.map(lambda x: 'others' if x not in ['smurf.','neptune.','normal.'] else x)\n",
    "y.value_counts()/len(y)"
   ]
  },
  {
   "cell_type": "markdown",
   "id": "553744f0",
   "metadata": {},
   "source": [
    "## Under-Sampling\n",
    "\n",
    "Under-sampling method reduces number of labels for more frequent class to match with number of labels for least frequent class.\n",
    "\n",
    "Advantages: Improves runtime and storage issues for very large datasets.\n",
    "\n",
    "Disadvantages: Very prone to data loss, may result in inaccurate results. (Rarely use undersampling methods)"
   ]
  },
  {
   "cell_type": "code",
   "execution_count": 9,
   "id": "729a007c",
   "metadata": {
    "run_control": {
     "marked": true
    }
   },
   "outputs": [
    {
     "data": {
      "text/plain": [
       "Counter({'neptune.': 8752, 'normal.': 8752, 'others': 8752, 'smurf.': 8752})"
      ]
     },
     "execution_count": 9,
     "metadata": {},
     "output_type": "execute_result"
    }
   ],
   "source": [
    "# Under-sampling method\n",
    "sampler = RandomUnderSampler()\n",
    "X_resampled, y_resampled = sampler.fit_resample(X,y)\n",
    "# Checking for count of values between groupings of variable after under-sampling\n",
    "Counter(y_resampled)"
   ]
  },
  {
   "cell_type": "markdown",
   "id": "56e572f2",
   "metadata": {},
   "source": [
    "## Over-Sampling\n",
    "\n",
    "Over-sampling method increases the number of labels for less frequent classes to match with number of labels for most frequent class\n",
    "\n",
    "Advantages: \n",
    "- No information loss\n",
    "- Usually outperforms under-sampling method\n",
    "\n",
    "Disadvantages:\n",
    "- Increase likelihood of overfitting, since it only replicates minority class records.\n",
    "\n",
    "The following techniques are most commonly used for oversampling:\n",
    "1. SMOTE (Oversampling for continuous data only)\n",
    "2. SMOTEN (Oversampling for categorical data only)\n",
    "3. SMOTENC (Oversampling for continuous and categorical data)"
   ]
  },
  {
   "cell_type": "code",
   "execution_count": 10,
   "id": "484fa95a",
   "metadata": {},
   "outputs": [
    {
     "data": {
      "text/plain": [
       "Counter({'neptune.': 28080,\n",
       "         'normal.': 28080,\n",
       "         'smurf.': 28080,\n",
       "         'others': 28080})"
      ]
     },
     "execution_count": 10,
     "metadata": {},
     "output_type": "execute_result"
    }
   ],
   "source": [
    "from sklearn.model_selection import train_test_split\n",
    "X_train, X_test, y_train, y_test = train_test_split(X,y,stratify=y,test_size=0.1)\n",
    "# Test set is used to reduce computational time of SMOTENC for demo purposes\n",
    "sampler = SMOTENC(categorical_features=[1,2,3])\n",
    "X_resampled, y_resampled = sampler.fit_resample(X_test,y_test)\n",
    "# Checking for count of values between groupings of variable after over-sampling\n",
    "Counter(y_resampled)"
   ]
  },
  {
   "cell_type": "markdown",
   "id": "7b656c82",
   "metadata": {},
   "source": [
    "## Combination of over-sampling and under-sampling\n",
    "\n",
    "Both oversampling and undersampling methods can be combined together using one of the two methods available:\n",
    "1. SMOTETomek\n",
    "2. SMOTEENN\n",
    "\n",
    "Note that both methods require categorical data to be label encoded first before using SMOTEN/SMOTENC as smote component"
   ]
  },
  {
   "cell_type": "markdown",
   "id": "8f2b50c0",
   "metadata": {},
   "source": [
    "### 1. SMOTETomek\n",
    "\n",
    "SMOTETomek method combines over-sampling (SMOTE - Synthetic Minority Oversampling Technique) and under-sampling methods (Tomek) by creating new data points around less frequent classes."
   ]
  },
  {
   "cell_type": "code",
   "execution_count": 11,
   "id": "beda592a",
   "metadata": {},
   "outputs": [],
   "source": [
    "encoder = ce.OrdinalEncoder(cols=['protocol_type','service','flag'])\n",
    "X_test = encoder.fit_transform(X_test)"
   ]
  },
  {
   "cell_type": "code",
   "execution_count": 12,
   "id": "266991c7",
   "metadata": {},
   "outputs": [
    {
     "data": {
      "text/plain": [
       "Counter({'neptune.': 28080,\n",
       "         'normal.': 28068,\n",
       "         'smurf.': 28079,\n",
       "         'others': 28069})"
      ]
     },
     "execution_count": 12,
     "metadata": {},
     "output_type": "execute_result"
    }
   ],
   "source": [
    "sampler = SMOTETomek(smote=SMOTENC([1,2,3]))\n",
    "X_resampled, y_resampled = sampler.fit_resample(X_test,y_test)\n",
    "# Checking for count of values between groupings of variable after over-sampling\n",
    "Counter(y_resampled)"
   ]
  },
  {
   "cell_type": "markdown",
   "id": "c00edfe5",
   "metadata": {},
   "source": [
    "### 2. SMOTEENN\n",
    "\n",
    "SMOTETomek method combines over-sampling (SMOTE - Synthetic Minority Oversampling Technique) and under-sampling methods (Edited-nearest-neighbors) by creating new data points around less frequent classes.\n",
    "\n",
    "Unlike SMOTETomek, SMOTEENN tends to clean more noisy samples."
   ]
  },
  {
   "cell_type": "code",
   "execution_count": 13,
   "id": "5e32c608",
   "metadata": {},
   "outputs": [
    {
     "data": {
      "text/plain": [
       "Counter({'neptune.': 28043,\n",
       "         'normal.': 27962,\n",
       "         'others': 27883,\n",
       "         'smurf.': 28076})"
      ]
     },
     "execution_count": 13,
     "metadata": {},
     "output_type": "execute_result"
    }
   ],
   "source": [
    "sampler = SMOTEENN(smote=SMOTENC([1,2,3]))\n",
    "X_resampled, y_resampled = sampler.fit_resample(X_test,y_test)\n",
    "# Checking for count of values between groupings of variable after over-sampling\n",
    "Counter(y_resampled)"
   ]
  },
  {
   "cell_type": "markdown",
   "id": "78909eac",
   "metadata": {},
   "source": [
    "## Class Weights Distribution\n",
    "\n",
    "An alternative method to handle imbalanced dataset in classification problems is to assign class weights to classifiers that do have the option of mentioning class weights.\n",
    "\n",
    "More weight is provided to the target class with lower frequency for classificationn algorithm to place more importance on given rare class."
   ]
  },
  {
   "cell_type": "code",
   "execution_count": 14,
   "id": "5a6d3526",
   "metadata": {},
   "outputs": [
    {
     "data": {
      "text/plain": [
       "array([ 1.26961132, 14.11166019,  1.15209047,  0.43984918])"
      ]
     },
     "execution_count": 14,
     "metadata": {},
     "output_type": "execute_result"
    }
   ],
   "source": [
    "weights = compute_class_weight('balanced', classes=y.unique(), y=y)\n",
    "weights"
   ]
  },
  {
   "cell_type": "code",
   "execution_count": 15,
   "id": "651d2b25",
   "metadata": {},
   "outputs": [
    {
     "data": {
      "text/plain": [
       "array(['normal.', 'others', 'neptune.', 'smurf.'], dtype=object)"
      ]
     },
     "execution_count": 15,
     "metadata": {},
     "output_type": "execute_result"
    }
   ],
   "source": [
    "y.unique()"
   ]
  }
 ],
 "metadata": {
  "hide_input": false,
  "kernelspec": {
   "display_name": "Python 3 (ipykernel)",
   "language": "python",
   "name": "python3"
  },
  "language_info": {
   "codemirror_mode": {
    "name": "ipython",
    "version": 3
   },
   "file_extension": ".py",
   "mimetype": "text/x-python",
   "name": "python",
   "nbconvert_exporter": "python",
   "pygments_lexer": "ipython3",
   "version": "3.10.4"
  },
  "toc": {
   "base_numbering": 1,
   "nav_menu": {},
   "number_sections": true,
   "sideBar": true,
   "skip_h1_title": false,
   "title_cell": "Table of Contents",
   "title_sidebar": "Contents",
   "toc_cell": false,
   "toc_position": {},
   "toc_section_display": true,
   "toc_window_display": false
  },
  "varInspector": {
   "cols": {
    "lenName": 16,
    "lenType": 16,
    "lenVar": 40
   },
   "kernels_config": {
    "python": {
     "delete_cmd_postfix": "",
     "delete_cmd_prefix": "del ",
     "library": "var_list.py",
     "varRefreshCmd": "print(var_dic_list())"
    },
    "r": {
     "delete_cmd_postfix": ") ",
     "delete_cmd_prefix": "rm(",
     "library": "var_list.r",
     "varRefreshCmd": "cat(var_dic_list()) "
    }
   },
   "types_to_exclude": [
    "module",
    "function",
    "builtin_function_or_method",
    "instance",
    "_Feature"
   ],
   "window_display": false
  }
 },
 "nbformat": 4,
 "nbformat_minor": 5
}
